{
  "nbformat": 4,
  "nbformat_minor": 0,
  "metadata": {
    "colab": {
      "provenance": [],
      "gpuType": "T4",
      "mount_file_id": "196I3udsNWkPTIvAQ4kgN3sv0JltZ2RbF",
      "authorship_tag": "ABX9TyNCcUZWJl/x/5oUo1ukCH1q",
      "include_colab_link": true
    },
    "kernelspec": {
      "name": "python3",
      "display_name": "Python 3"
    },
    "language_info": {
      "name": "python"
    },
    "accelerator": "GPU"
  },
  "cells": [
    {
      "cell_type": "markdown",
      "metadata": {
        "id": "view-in-github",
        "colab_type": "text"
      },
      "source": [
        "<a href=\"https://colab.research.google.com/github/Millimono/DEEP-LERANING/blob/main/Traduction_fran_Poular.ipynb\" target=\"_parent\"><img src=\"https://colab.research.google.com/assets/colab-badge.svg\" alt=\"Open In Colab\"/></a>"
      ]
    },
    {
      "cell_type": "code",
      "execution_count": 2,
      "metadata": {
        "id": "8znIvSDqtS9U"
      },
      "outputs": [],
      "source": [
        "import tensorflow as tf### models\n",
        "import numpy as np### math computations\n",
        "import matplotlib.pyplot as plt### plotting bar chart\n",
        "import sklearn### machine learning library\n",
        "import cv2## image processing\n",
        "from sklearn.metrics import confusion_matrix, roc_curve### metrics\n",
        "import seaborn as sns### visualizations\n",
        "import datetime\n",
        "import pathlib\n",
        "import io\n",
        "import os\n",
        "import re\n",
        "import string\n",
        "import time\n",
        "from numpy import random\n",
        "import tensorflow_datasets as tfds\n",
        "import tensorflow_probability as tfp\n",
        "from tensorflow.keras.models import Model\n",
        "from tensorflow.keras.layers import Layer\n",
        "from tensorflow.keras.layers import (Dense,Flatten,SimpleRNN,InputLayer,Conv1D,Bidirectional,GRU,LSTM,BatchNormalization,Dropout,Input, Embedding,TextVectorization)\n",
        "from tensorflow.keras.losses import BinaryCrossentropy,CategoricalCrossentropy, SparseCategoricalCrossentropy\n",
        "from tensorflow.keras.metrics import Accuracy,TopKCategoricalAccuracy, CategoricalAccuracy, SparseCategoricalAccuracy\n",
        "from tensorflow.keras.optimizers import Adam\n",
        "from google.colab import drive\n",
        "from google.colab import files\n",
        "from tensorboard.plugins import projector"
      ]
    },
    {
      "cell_type": "code",
      "source": [
        "# import pandas as pd\n",
        "\n",
        "# # Lisez le fichier Excel\n",
        "# excel_file_path = \"/content/Pular - francais.xlsx\"\n",
        "# df = pd.read_excel(excel_file_path)\n",
        "\n",
        "# # Sauvegardez le DataFrame en tant que fichier CSV\n",
        "# csv_file_path = \"/content/Pular-fra.csv\"\n",
        "# df.to_csv(csv_file_path, index=False, header=True, sep='\\t')\n",
        "\n",
        "# print(\"Fichier CSV créé avec succès à\", csv_file_path)\n"
      ],
      "metadata": {
        "id": "I0mSVCGTorTv"
      },
      "execution_count": 3,
      "outputs": []
    },
    {
      "cell_type": "code",
      "source": [],
      "metadata": {
        "id": "6KcC7FvusOGN"
      },
      "execution_count": 3,
      "outputs": []
    },
    {
      "cell_type": "code",
      "source": [],
      "metadata": {
        "id": "DB0aJh_utJ5M"
      },
      "execution_count": 3,
      "outputs": []
    },
    {
      "cell_type": "code",
      "source": [],
      "metadata": {
        "id": "bMB_hwXesmUB"
      },
      "execution_count": 3,
      "outputs": []
    },
    {
      "cell_type": "code",
      "source": [
        "# text_dataset=tf.data.TextLineDataset(\"/content/dataset/fra.txt\")"
      ],
      "metadata": {
        "id": "NzjfGfD486qu"
      },
      "execution_count": 4,
      "outputs": []
    },
    {
      "cell_type": "code",
      "source": [
        "text_dataset = tf.data.TextLineDataset(\"/content/pular_v12_fr.txt\")"
      ],
      "metadata": {
        "id": "4RI9Sn6Hwp3V"
      },
      "execution_count": 5,
      "outputs": []
    },
    {
      "cell_type": "code",
      "source": [
        "# text_dataset = tf.data.TextLineDataset(\"/content/pular_v1_fr.txt\", encoding=\"ISO-8859-1\")"
      ],
      "metadata": {
        "id": "jnGQAdghljb0"
      },
      "execution_count": 6,
      "outputs": []
    },
    {
      "cell_type": "code",
      "source": [
        "count = 0\n",
        "\n",
        "for _ in text_dataset:\n",
        "    count += 1\n",
        "\n",
        "print(count)"
      ],
      "metadata": {
        "colab": {
          "base_uri": "https://localhost:8080/"
        },
        "id": "xM9EOLD9-hnU",
        "outputId": "78b06f75-400d-4c5c-fd51-fba1b7bebaa4"
      },
      "execution_count": 7,
      "outputs": [
        {
          "output_type": "stream",
          "name": "stdout",
          "text": [
            "211\n"
          ]
        }
      ]
    },
    {
      "cell_type": "code",
      "source": [
        "text_dataset.element_spec"
      ],
      "metadata": {
        "id": "_SaMOGd5yx_p",
        "colab": {
          "base_uri": "https://localhost:8080/"
        },
        "outputId": "a1ddf144-068b-4471-da3a-f877afc6097e"
      },
      "execution_count": 8,
      "outputs": [
        {
          "output_type": "execute_result",
          "data": {
            "text/plain": [
              "TensorSpec(shape=(), dtype=tf.string, name=None)"
            ]
          },
          "metadata": {},
          "execution_count": 8
        }
      ]
    },
    {
      "cell_type": "code",
      "source": [
        "for i in text_dataset.take(3):\n",
        "  print(i)"
      ],
      "metadata": {
        "id": "a97OaOLExQyP",
        "colab": {
          "base_uri": "https://localhost:8080/"
        },
        "outputId": "8b729800-bf69-4e0c-ba73-ef9873b473be"
      },
      "execution_count": 9,
      "outputs": [
        {
          "output_type": "stream",
          "name": "stdout",
          "text": [
            "tf.Tensor(b'Pular\\tFran\\xc3\\xa7ais', shape=(), dtype=string)\n",
            "tf.Tensor(b'A n\\xe2\\x80\\x99da hala fran\\xc3\\xa7ais \\t parlez-vous fran\\xc3\\xa7ais.', shape=(), dtype=string)\n",
            "tf.Tensor(b'A fini \\t tu es r\\xc3\\xa9veill\\xc3\\xa9.', shape=(), dtype=string)\n"
          ]
        }
      ]
    },
    {
      "cell_type": "code",
      "source": [
        "# for i in text_dataset.take(210):\n",
        "#   print(len(tf.strings.split(i,\" \")))"
      ],
      "metadata": {
        "id": "q4c-SJ-nXeeE"
      },
      "execution_count": 10,
      "outputs": []
    },
    {
      "cell_type": "code",
      "source": [
        "VOCAB_SIZE=300\n",
        "ENGLISH_SEQUENCE_LENGTH=15\n",
        "FRENCH_SEQUENCE_LENGTH=15\n",
        "EMBEDDING_DIM=250\n",
        "BATCH_SIZE=15"
      ],
      "metadata": {
        "id": "EjYFK9YSw53T"
      },
      "execution_count": 11,
      "outputs": []
    },
    {
      "cell_type": "code",
      "source": [
        "english_vectorize_layer=TextVectorization(\n",
        "    standardize='lower_and_strip_punctuation',\n",
        "    max_tokens=VOCAB_SIZE,\n",
        "    output_mode='int',\n",
        "    output_sequence_length=ENGLISH_SEQUENCE_LENGTH\n",
        ")"
      ],
      "metadata": {
        "id": "NqmYFwfgxCIh"
      },
      "execution_count": 12,
      "outputs": []
    },
    {
      "cell_type": "code",
      "source": [
        "french_vectorize_layer=TextVectorization(\n",
        "    standardize='lower_and_strip_punctuation',\n",
        "    max_tokens=VOCAB_SIZE,\n",
        "    output_mode='int',\n",
        "    output_sequence_length=FRENCH_SEQUENCE_LENGTH\n",
        ")"
      ],
      "metadata": {
        "id": "AZVCNsHvxC8T"
      },
      "execution_count": 13,
      "outputs": []
    },
    {
      "cell_type": "code",
      "source": [
        "def selector(input_text):\n",
        "  split_text=tf.strings.split(input_text,'\\t')\n",
        "  return {'input_1':split_text[0:1],'input_2':'starttoken '+split_text[1:2]},split_text[1:2]+' endtoken'"
      ],
      "metadata": {
        "id": "IlBaLNdNxFaf"
      },
      "execution_count": 14,
      "outputs": []
    },
    {
      "cell_type": "code",
      "source": [
        "split_dataset=text_dataset.map(selector)"
      ],
      "metadata": {
        "id": "4e1whQPj_uXW"
      },
      "execution_count": 15,
      "outputs": []
    },
    {
      "cell_type": "code",
      "source": [
        "def separator(input_text):\n",
        "  split_text=tf.strings.split(input_text,'\\t')\n",
        "  return split_text[0:1],'starttoken '+split_text[1:2]+' endtoken'"
      ],
      "metadata": {
        "id": "skfD_7gP_x4r"
      },
      "execution_count": 16,
      "outputs": []
    },
    {
      "cell_type": "code",
      "source": [
        "init_dataset=text_dataset.map(separator)"
      ],
      "metadata": {
        "id": "XroIPRuQ_3YL"
      },
      "execution_count": 17,
      "outputs": []
    },
    {
      "cell_type": "code",
      "source": [
        "for i in split_dataset.take(3):\n",
        "  print(i)"
      ],
      "metadata": {
        "id": "yItfQQLr_8Z4",
        "colab": {
          "base_uri": "https://localhost:8080/"
        },
        "outputId": "c8b91081-7a64-445f-f29c-e9d420104141"
      },
      "execution_count": 18,
      "outputs": [
        {
          "output_type": "stream",
          "name": "stdout",
          "text": [
            "({'input_1': <tf.Tensor: shape=(1,), dtype=string, numpy=array([b'Pular'], dtype=object)>, 'input_2': <tf.Tensor: shape=(1,), dtype=string, numpy=array([b'starttoken Fran\\xc3\\xa7ais'], dtype=object)>}, <tf.Tensor: shape=(1,), dtype=string, numpy=array([b'Fran\\xc3\\xa7ais endtoken'], dtype=object)>)\n",
            "({'input_1': <tf.Tensor: shape=(1,), dtype=string, numpy=array([b'A n\\xe2\\x80\\x99da hala fran\\xc3\\xa7ais '], dtype=object)>, 'input_2': <tf.Tensor: shape=(1,), dtype=string, numpy=array([b'starttoken  parlez-vous fran\\xc3\\xa7ais.'], dtype=object)>}, <tf.Tensor: shape=(1,), dtype=string, numpy=array([b' parlez-vous fran\\xc3\\xa7ais. endtoken'], dtype=object)>)\n",
            "({'input_1': <tf.Tensor: shape=(1,), dtype=string, numpy=array([b'A fini '], dtype=object)>, 'input_2': <tf.Tensor: shape=(1,), dtype=string, numpy=array([b'starttoken  tu es r\\xc3\\xa9veill\\xc3\\xa9.'], dtype=object)>}, <tf.Tensor: shape=(1,), dtype=string, numpy=array([b' tu es r\\xc3\\xa9veill\\xc3\\xa9. endtoken'], dtype=object)>)\n"
          ]
        }
      ]
    },
    {
      "cell_type": "code",
      "source": [
        "english_training_data=init_dataset.map(lambda x,y:x)### input x,y and output x\n",
        "english_vectorize_layer.adapt(english_training_data)#### adapt the vectorize_layer to the training data"
      ],
      "metadata": {
        "id": "k37Lpt-IAPDt"
      },
      "execution_count": 19,
      "outputs": []
    },
    {
      "cell_type": "code",
      "source": [
        "french_training_data=init_dataset.map(lambda x,y:y)### input x,y,z and output y\n",
        "french_vectorize_layer.adapt(french_training_data)#### adapt the vectorize_layer to the training data"
      ],
      "metadata": {
        "id": "Ox8YDuftAe0s"
      },
      "execution_count": 20,
      "outputs": []
    },
    {
      "cell_type": "code",
      "source": [
        "def vectorizer(inputs,output):\n",
        "  return {'input_1':english_vectorize_layer(inputs['input_1']),\n",
        "          'input_2':french_vectorize_layer(inputs['input_2'])},french_vectorize_layer(output)"
      ],
      "metadata": {
        "id": "JBMAsmFFAbRe"
      },
      "execution_count": 21,
      "outputs": []
    },
    {
      "cell_type": "code",
      "source": [
        "split_dataset\n"
      ],
      "metadata": {
        "colab": {
          "base_uri": "https://localhost:8080/"
        },
        "id": "yf7MdUxEAqKE",
        "outputId": "527dd586-e3e9-4f5a-a206-73a5fc0a8de3"
      },
      "execution_count": 22,
      "outputs": [
        {
          "output_type": "execute_result",
          "data": {
            "text/plain": [
              "<_MapDataset element_spec=({'input_1': TensorSpec(shape=(None,), dtype=tf.string, name=None), 'input_2': TensorSpec(shape=(None,), dtype=tf.string, name=None)}, TensorSpec(shape=(None,), dtype=tf.string, name=None))>"
            ]
          },
          "metadata": {},
          "execution_count": 22
        }
      ]
    },
    {
      "cell_type": "code",
      "source": [
        "dataset=split_dataset.map(vectorizer)"
      ],
      "metadata": {
        "id": "34P1Vf6PArF9"
      },
      "execution_count": 23,
      "outputs": []
    },
    {
      "cell_type": "code",
      "source": [
        "for i in split_dataset.take(3):\n",
        "  print(i)"
      ],
      "metadata": {
        "colab": {
          "base_uri": "https://localhost:8080/"
        },
        "id": "NzhkX0upAvvb",
        "outputId": "5db158f5-8a4e-4245-c096-27062faee473"
      },
      "execution_count": 24,
      "outputs": [
        {
          "output_type": "stream",
          "name": "stdout",
          "text": [
            "({'input_1': <tf.Tensor: shape=(1,), dtype=string, numpy=array([b'Pular'], dtype=object)>, 'input_2': <tf.Tensor: shape=(1,), dtype=string, numpy=array([b'starttoken Fran\\xc3\\xa7ais'], dtype=object)>}, <tf.Tensor: shape=(1,), dtype=string, numpy=array([b'Fran\\xc3\\xa7ais endtoken'], dtype=object)>)\n",
            "({'input_1': <tf.Tensor: shape=(1,), dtype=string, numpy=array([b'A n\\xe2\\x80\\x99da hala fran\\xc3\\xa7ais '], dtype=object)>, 'input_2': <tf.Tensor: shape=(1,), dtype=string, numpy=array([b'starttoken  parlez-vous fran\\xc3\\xa7ais.'], dtype=object)>}, <tf.Tensor: shape=(1,), dtype=string, numpy=array([b' parlez-vous fran\\xc3\\xa7ais. endtoken'], dtype=object)>)\n",
            "({'input_1': <tf.Tensor: shape=(1,), dtype=string, numpy=array([b'A fini '], dtype=object)>, 'input_2': <tf.Tensor: shape=(1,), dtype=string, numpy=array([b'starttoken  tu es r\\xc3\\xa9veill\\xc3\\xa9.'], dtype=object)>}, <tf.Tensor: shape=(1,), dtype=string, numpy=array([b' tu es r\\xc3\\xa9veill\\xc3\\xa9. endtoken'], dtype=object)>)\n"
          ]
        }
      ]
    },
    {
      "cell_type": "code",
      "source": [],
      "metadata": {
        "id": "llRTdfMyBJwP"
      },
      "execution_count": 24,
      "outputs": []
    },
    {
      "cell_type": "code",
      "source": [
        "for i in dataset.take(1):\n",
        "  print(i)"
      ],
      "metadata": {
        "id": "2NUG8JEIAymt",
        "colab": {
          "base_uri": "https://localhost:8080/"
        },
        "outputId": "12a67600-72eb-4950-dff9-e540aeb58454"
      },
      "execution_count": 25,
      "outputs": [
        {
          "output_type": "stream",
          "name": "stdout",
          "text": [
            "({'input_1': <tf.Tensor: shape=(1, 15), dtype=int64, numpy=array([[55,  0,  0,  0,  0,  0,  0,  0,  0,  0,  0,  0,  0,  0,  0]])>, 'input_2': <tf.Tensor: shape=(1, 15), dtype=int64, numpy=array([[ 2, 63,  0,  0,  0,  0,  0,  0,  0,  0,  0,  0,  0,  0,  0]])>}, <tf.Tensor: shape=(1, 15), dtype=int64, numpy=array([[63,  3,  0,  0,  0,  0,  0,  0,  0,  0,  0,  0,  0,  0,  0]])>)\n"
          ]
        }
      ]
    },
    {
      "cell_type": "code",
      "source": [],
      "metadata": {
        "id": "RlD_SBiqicOi"
      },
      "execution_count": 25,
      "outputs": []
    },
    {
      "cell_type": "code",
      "source": [
        "dataset"
      ],
      "metadata": {
        "colab": {
          "base_uri": "https://localhost:8080/"
        },
        "id": "D2csGvi2A5gp",
        "outputId": "dd9500b9-f250-4b6e-c68c-5cb1957d299e"
      },
      "execution_count": 26,
      "outputs": [
        {
          "output_type": "execute_result",
          "data": {
            "text/plain": [
              "<_MapDataset element_spec=({'input_1': TensorSpec(shape=(None, 15), dtype=tf.int64, name=None), 'input_2': TensorSpec(shape=(None, 15), dtype=tf.int64, name=None)}, TensorSpec(shape=(None, 15), dtype=tf.int64, name=None))>"
            ]
          },
          "metadata": {},
          "execution_count": 26
        }
      ]
    },
    {
      "cell_type": "code",
      "source": [
        "dataset=dataset.shuffle(2048).unbatch().batch(BATCH_SIZE).prefetch(buffer_size=tf.data.AUTOTUNE)"
      ],
      "metadata": {
        "id": "UmelyxI7BDe0"
      },
      "execution_count": 27,
      "outputs": []
    },
    {
      "cell_type": "code",
      "source": [
        "dataset"
      ],
      "metadata": {
        "colab": {
          "base_uri": "https://localhost:8080/"
        },
        "id": "RI2RF8AgBGR9",
        "outputId": "70d8bb3d-8348-483b-d6ca-677c3cac9e73"
      },
      "execution_count": 28,
      "outputs": [
        {
          "output_type": "execute_result",
          "data": {
            "text/plain": [
              "<_PrefetchDataset element_spec=({'input_1': TensorSpec(shape=(None, 15), dtype=tf.int64, name=None), 'input_2': TensorSpec(shape=(None, 15), dtype=tf.int64, name=None)}, TensorSpec(shape=(None, 15), dtype=tf.int64, name=None))>"
            ]
          },
          "metadata": {},
          "execution_count": 28
        }
      ]
    },
    {
      "cell_type": "code",
      "source": [
        "NUM_BATCHES=int(250/BATCH_SIZE)"
      ],
      "metadata": {
        "id": "45nFL_R7BJZT"
      },
      "execution_count": 29,
      "outputs": []
    },
    {
      "cell_type": "code",
      "source": [
        "train_dataset=dataset.take(int(0.9*NUM_BATCHES))\n",
        "val_dataset=dataset.skip(int(0.9*NUM_BATCHES))"
      ],
      "metadata": {
        "id": "51zvrb7CBMnS"
      },
      "execution_count": 30,
      "outputs": []
    },
    {
      "cell_type": "code",
      "source": [
        "train_dataset"
      ],
      "metadata": {
        "colab": {
          "base_uri": "https://localhost:8080/"
        },
        "id": "RtwVCd06BMpt",
        "outputId": "4126cdd5-c6cf-4392-e252-3fc4ab78cc7b"
      },
      "execution_count": 31,
      "outputs": [
        {
          "output_type": "execute_result",
          "data": {
            "text/plain": [
              "<_TakeDataset element_spec=({'input_1': TensorSpec(shape=(None, 15), dtype=tf.int64, name=None), 'input_2': TensorSpec(shape=(None, 15), dtype=tf.int64, name=None)}, TensorSpec(shape=(None, 15), dtype=tf.int64, name=None))>"
            ]
          },
          "metadata": {},
          "execution_count": 31
        }
      ]
    },
    {
      "cell_type": "code",
      "source": [],
      "metadata": {
        "id": "75h1YatVBMs-"
      },
      "execution_count": 31,
      "outputs": []
    },
    {
      "cell_type": "code",
      "source": [],
      "metadata": {
        "id": "OS56UbTlBMwh"
      },
      "execution_count": 31,
      "outputs": []
    },
    {
      "cell_type": "markdown",
      "source": [
        "## Modeling"
      ],
      "metadata": {
        "id": "wcBlnYZ9Back"
      }
    },
    {
      "cell_type": "code",
      "source": [
        "NUM_UNITS=256"
      ],
      "metadata": {
        "id": "U4tmqhQdBc3U"
      },
      "execution_count": 32,
      "outputs": []
    },
    {
      "cell_type": "code",
      "source": [
        "### ENCODER\n",
        "input = Input(shape=(ENGLISH_SEQUENCE_LENGTH,), dtype=\"int64\", name=\"input_1\")\n",
        "x=Embedding(VOCAB_SIZE, EMBEDDING_DIM, )(input)\n",
        "encoded_input=Bidirectional(GRU(NUM_UNITS), )(x)\n",
        "\n",
        "### DECODER\n",
        "shifted_target=Input(shape=(FRENCH_SEQUENCE_LENGTH,), dtype=\"int64\", name=\"input_2\")\n",
        "x=Embedding(VOCAB_SIZE,EMBEDDING_DIM,)(shifted_target)\n",
        "x = GRU(NUM_UNITS*2, return_sequences=True)(x, initial_state=encoded_input)\n",
        "\n",
        "### OUTPUT\n",
        "x = Dropout(0.5)(x)\n",
        "target=Dense(VOCAB_SIZE,activation=\"softmax\")(x)\n",
        "seq2seq_gru=Model([input,shifted_target],target)\n",
        "seq2seq_gru.summary()"
      ],
      "metadata": {
        "colab": {
          "base_uri": "https://localhost:8080/"
        },
        "id": "k4sGroXSBeGx",
        "outputId": "15304372-62cb-43f9-fffe-adddf72e85cd"
      },
      "execution_count": 33,
      "outputs": [
        {
          "output_type": "stream",
          "name": "stdout",
          "text": [
            "Model: \"model\"\n",
            "__________________________________________________________________________________________________\n",
            " Layer (type)                   Output Shape         Param #     Connected to                     \n",
            "==================================================================================================\n",
            " input_1 (InputLayer)           [(None, 15)]         0           []                               \n",
            "                                                                                                  \n",
            " input_2 (InputLayer)           [(None, 15)]         0           []                               \n",
            "                                                                                                  \n",
            " embedding (Embedding)          (None, 15, 250)      75000       ['input_1[0][0]']                \n",
            "                                                                                                  \n",
            " embedding_1 (Embedding)        (None, 15, 250)      75000       ['input_2[0][0]']                \n",
            "                                                                                                  \n",
            " bidirectional (Bidirectional)  (None, 512)          780288      ['embedding[0][0]']              \n",
            "                                                                                                  \n",
            " gru_1 (GRU)                    (None, 15, 512)      1173504     ['embedding_1[0][0]',            \n",
            "                                                                  'bidirectional[0][0]']          \n",
            "                                                                                                  \n",
            " dropout (Dropout)              (None, 15, 512)      0           ['gru_1[0][0]']                  \n",
            "                                                                                                  \n",
            " dense (Dense)                  (None, 15, 300)      153900      ['dropout[0][0]']                \n",
            "                                                                                                  \n",
            "==================================================================================================\n",
            "Total params: 2,257,692\n",
            "Trainable params: 2,257,692\n",
            "Non-trainable params: 0\n",
            "__________________________________________________________________________________________________\n"
          ]
        }
      ]
    },
    {
      "cell_type": "code",
      "source": [
        "class BLEU(tf.keras.metrics.Metric):\n",
        "    def __init__(self,name='bleu_score'):\n",
        "        super(BLEU,self).__init__()\n",
        "        self.bleu_score=0\n",
        "\n",
        "    def update_state(self,y_true,y_pred,sample_weight=None):\n",
        "      y_pred=tf.argmax(y_pred,-1)\n",
        "      self.bleu_score=0\n",
        "      for i,j in zip(y_pred,y_true):\n",
        "        tf.autograph.experimental.set_loop_options()\n",
        "\n",
        "        total_words=tf.math.count_nonzero(i)\n",
        "        total_matches=0\n",
        "        for word in i:\n",
        "          if word==0:\n",
        "            break\n",
        "          for q in range(len(j)):\n",
        "            if j[q]==0:\n",
        "              break\n",
        "            if word==j[q]:\n",
        "              total_matches+=1\n",
        "              j=tf.boolean_mask(j,[False if y==q else True for y in range(len(j))])\n",
        "              break\n",
        "\n",
        "        self.bleu_score+=total_matches/total_words\n",
        "\n",
        "    def result(self):\n",
        "        return self.bleu_score/BATCH_SIZE"
      ],
      "metadata": {
        "id": "4d4Tw25nBhNy"
      },
      "execution_count": 34,
      "outputs": []
    },
    {
      "cell_type": "code",
      "source": [
        "seq2seq_gru.compile(\n",
        "    loss=tf.keras.losses.SparseCategoricalCrossentropy(),\n",
        "    optimizer=tf.keras.optimizers.Adam(5e-4),)\n",
        "    # metrics='accuracy'\n",
        "    #metrics=[BLEU()],\n",
        "    #run_eagerly=True)"
      ],
      "metadata": {
        "id": "9q7hAxl1Bmzy"
      },
      "execution_count": 35,
      "outputs": []
    },
    {
      "cell_type": "code",
      "source": [
        "checkpoint_filepath = '/content/drive/MyDrive/nlp/translation/lstm.h5'\n",
        "model_checkpoint_callback = tf.keras.callbacks.ModelCheckpoint(\n",
        "    filepath=checkpoint_filepath,\n",
        "    monitor='val_loss',\n",
        "    mode='min',\n",
        "    save_best_only=True,)"
      ],
      "metadata": {
        "id": "fyfcLzxMB0DZ"
      },
      "execution_count": 36,
      "outputs": []
    },
    {
      "cell_type": "code",
      "source": [
        "# metric = 'val_accuracy'\n",
        "# ModelCheckpoint(filepath=r\"C:\\Users\\reda.elhail\\Desktop\\checkpoints\\{}\".format(Name), monitor=metric,\n",
        "#                     verbose=2, save_best_only=True, mode='max')]"
      ],
      "metadata": {
        "id": "Bg5MF-4aJ2EK"
      },
      "execution_count": 37,
      "outputs": []
    },
    {
      "cell_type": "code",
      "source": [
        "history=seq2seq_gru.fit(\n",
        "    train_dataset,\n",
        "    validation_data=val_dataset,\n",
        "    epochs=50,\n",
        "    callbacks=[model_checkpoint_callback])\n",
        "# for key in history.history:\n",
        "#   print(key)"
      ],
      "metadata": {
        "id": "w46zEMmbB3PK",
        "colab": {
          "base_uri": "https://localhost:8080/"
        },
        "outputId": "c18f7432-2457-4e2e-de89-fe474dc50d1e"
      },
      "execution_count": 38,
      "outputs": [
        {
          "output_type": "stream",
          "name": "stdout",
          "text": [
            "Epoch 1/50\n",
            "14/14 [==============================] - 14s 360ms/step - loss: 4.1548 - val_loss: 1.1129\n",
            "Epoch 2/50\n",
            "14/14 [==============================] - 2s 112ms/step - loss: 1.7687 - val_loss: 1.4986\n",
            "Epoch 3/50\n",
            "14/14 [==============================] - 2s 98ms/step - loss: 1.4031 - val_loss: 3.1944\n",
            "Epoch 4/50\n",
            "14/14 [==============================] - 1s 62ms/step - loss: 1.2538 - val_loss: 1.4509\n",
            "Epoch 5/50\n",
            "14/14 [==============================] - 1s 67ms/step - loss: 1.1512 - val_loss: 0.7948\n",
            "Epoch 6/50\n",
            "14/14 [==============================] - 1s 44ms/step - loss: 1.1038 - val_loss: 0.5430\n",
            "Epoch 7/50\n",
            "14/14 [==============================] - 1s 56ms/step - loss: 1.0645 - val_loss: 1.0543\n",
            "Epoch 8/50\n",
            "14/14 [==============================] - 1s 35ms/step - loss: 1.0427 - val_loss: 0.8173\n",
            "Epoch 9/50\n",
            "14/14 [==============================] - 1s 31ms/step - loss: 1.0239 - val_loss: 0.9351\n",
            "Epoch 10/50\n",
            "14/14 [==============================] - 0s 29ms/step - loss: 1.0054 - val_loss: 0.5066\n",
            "Epoch 11/50\n",
            "14/14 [==============================] - 1s 35ms/step - loss: 0.9978 - val_loss: 2.7775\n",
            "Epoch 12/50\n",
            "14/14 [==============================] - 0s 19ms/step - loss: 0.9942 - val_loss: 0.7783\n",
            "Epoch 13/50\n",
            "14/14 [==============================] - 0s 18ms/step - loss: 0.9643 - val_loss: 1.4814\n",
            "Epoch 14/50\n",
            "14/14 [==============================] - 0s 19ms/step - loss: 0.9477 - val_loss: 1.2110\n",
            "Epoch 15/50\n",
            "14/14 [==============================] - 0s 27ms/step - loss: 0.9238 - val_loss: 0.1416\n",
            "Epoch 16/50\n",
            "14/14 [==============================] - 1s 44ms/step - loss: 0.9035 - val_loss: 0.1035\n",
            "Epoch 17/50\n",
            "14/14 [==============================] - 0s 23ms/step - loss: 0.8953 - val_loss: 0.8219\n",
            "Epoch 18/50\n",
            "14/14 [==============================] - 0s 29ms/step - loss: 0.8944 - val_loss: 0.0708\n",
            "Epoch 19/50\n",
            "14/14 [==============================] - 0s 19ms/step - loss: 0.8988 - val_loss: 0.6029\n",
            "Epoch 20/50\n",
            "14/14 [==============================] - 0s 18ms/step - loss: 0.8757 - val_loss: 0.0717\n",
            "Epoch 21/50\n",
            "14/14 [==============================] - 0s 17ms/step - loss: 0.8580 - val_loss: 3.1855\n",
            "Epoch 22/50\n",
            "14/14 [==============================] - 0s 22ms/step - loss: 0.8361 - val_loss: 0.7434\n",
            "Epoch 23/50\n",
            "14/14 [==============================] - 1s 42ms/step - loss: 0.8207 - val_loss: 0.9851\n",
            "Epoch 24/50\n",
            "14/14 [==============================] - 0s 24ms/step - loss: 0.7969 - val_loss: 0.3672\n",
            "Epoch 25/50\n",
            "14/14 [==============================] - 0s 26ms/step - loss: 0.7918 - val_loss: 0.3857\n",
            "Epoch 26/50\n",
            "14/14 [==============================] - 1s 28ms/step - loss: 0.7771 - val_loss: 0.3738\n",
            "Epoch 27/50\n",
            "14/14 [==============================] - 0s 19ms/step - loss: 0.7678 - val_loss: 1.4697\n",
            "Epoch 28/50\n",
            "14/14 [==============================] - 0s 19ms/step - loss: 0.7496 - val_loss: 0.2867\n",
            "Epoch 29/50\n",
            "14/14 [==============================] - 0s 19ms/step - loss: 0.7419 - val_loss: 0.5003\n",
            "Epoch 30/50\n",
            "14/14 [==============================] - 0s 18ms/step - loss: 0.7203 - val_loss: 0.6433\n",
            "Epoch 31/50\n",
            "14/14 [==============================] - 0s 23ms/step - loss: 0.7118 - val_loss: 0.3660\n",
            "Epoch 32/50\n",
            "14/14 [==============================] - 0s 19ms/step - loss: 0.6856 - val_loss: 1.9883\n",
            "Epoch 33/50\n",
            "14/14 [==============================] - 0s 19ms/step - loss: 0.6724 - val_loss: 0.3481\n",
            "Epoch 34/50\n",
            "14/14 [==============================] - 1s 33ms/step - loss: 0.6604 - val_loss: 0.0104\n",
            "Epoch 35/50\n",
            "14/14 [==============================] - 0s 18ms/step - loss: 0.6433 - val_loss: 0.4534\n",
            "Epoch 36/50\n",
            "14/14 [==============================] - 0s 17ms/step - loss: 0.6235 - val_loss: 0.3098\n",
            "Epoch 37/50\n",
            "14/14 [==============================] - 0s 18ms/step - loss: 0.6063 - val_loss: 0.3436\n",
            "Epoch 38/50\n",
            "14/14 [==============================] - 0s 17ms/step - loss: 0.5892 - val_loss: 0.2649\n",
            "Epoch 39/50\n",
            "14/14 [==============================] - 0s 17ms/step - loss: 0.5750 - val_loss: 0.2635\n",
            "Epoch 40/50\n",
            "14/14 [==============================] - 0s 18ms/step - loss: 0.5613 - val_loss: 0.3725\n",
            "Epoch 41/50\n",
            "14/14 [==============================] - 0s 17ms/step - loss: 0.5523 - val_loss: 0.3490\n",
            "Epoch 42/50\n",
            "14/14 [==============================] - 0s 22ms/step - loss: 0.5247 - val_loss: 0.3521\n",
            "Epoch 43/50\n",
            "14/14 [==============================] - 1s 44ms/step - loss: 0.5107 - val_loss: 0.0058\n",
            "Epoch 44/50\n",
            "14/14 [==============================] - 0s 17ms/step - loss: 0.4868 - val_loss: 0.2191\n",
            "Epoch 45/50\n",
            "14/14 [==============================] - 0s 18ms/step - loss: 0.4706 - val_loss: 0.4685\n",
            "Epoch 46/50\n",
            "14/14 [==============================] - 0s 18ms/step - loss: 0.4613 - val_loss: 0.2669\n",
            "Epoch 47/50\n",
            "14/14 [==============================] - 0s 19ms/step - loss: 0.4393 - val_loss: 0.2623\n",
            "Epoch 48/50\n",
            "14/14 [==============================] - 0s 18ms/step - loss: 0.4319 - val_loss: 0.6318\n",
            "Epoch 49/50\n",
            "14/14 [==============================] - 0s 30ms/step - loss: 0.4064 - val_loss: 0.5360\n",
            "Epoch 50/50\n",
            "14/14 [==============================] - 0s 26ms/step - loss: 0.3845 - val_loss: 0.0034\n"
          ]
        }
      ]
    },
    {
      "cell_type": "code",
      "source": [],
      "metadata": {
        "id": "zuAnUv_vB6X9"
      },
      "execution_count": 38,
      "outputs": []
    },
    {
      "cell_type": "code",
      "source": [
        "plt.plot(history.history['loss'])\n",
        "plt.plot(history.history['val_loss'])\n",
        "plt.title('model_loss')\n",
        "plt.ylabel('loss')\n",
        "plt.xlabel('epoch')\n",
        "plt.legend(['train', 'val'], loc='upper left')\n",
        "plt.show()"
      ],
      "metadata": {
        "id": "kAPV4av5B6bX",
        "colab": {
          "base_uri": "https://localhost:8080/",
          "height": 472
        },
        "outputId": "5fd7ddee-95fa-498d-835b-bbe0d6633552"
      },
      "execution_count": 39,
      "outputs": [
        {
          "output_type": "display_data",
          "data": {
            "text/plain": [
              "<Figure size 640x480 with 1 Axes>"
            ],
            "image/png": "[encoded data removed]"
          },
          "metadata": {}
        }
      ]
    },
    {
      "cell_type": "code",
      "source": [
        "# plt.plot(history.history['accuracy'])\n",
        "# plt.plot(history.history['val_accuracy'])\n",
        "\n",
        "# plt.title('model_accuracy')\n",
        "# plt.ylabel('accuracy')\n",
        "# plt.xlabel('epoch')\n",
        "# plt.legend(['train', 'val'], loc='upper left')\n",
        "# plt.show()"
      ],
      "metadata": {
        "id": "Is2FJMpYB_Vu"
      },
      "execution_count": 40,
      "outputs": []
    },
    {
      "cell_type": "code",
      "source": [],
      "metadata": {
        "id": "9XRO2eOwCBtx"
      },
      "execution_count": 40,
      "outputs": []
    },
    {
      "cell_type": "markdown",
      "source": [
        "## EVALUATION"
      ],
      "metadata": {
        "id": "K_5X8PuhCCK2"
      }
    },
    {
      "cell_type": "code",
      "source": [
        "seq2seq_gru.evaluate(val_dataset)"
      ],
      "metadata": {
        "id": "nItn1XYFCFcm",
        "colab": {
          "base_uri": "https://localhost:8080/"
        },
        "outputId": "26668ec9-a9be-480c-afc6-b1b484f6aed6"
      },
      "execution_count": 41,
      "outputs": [
        {
          "output_type": "stream",
          "name": "stdout",
          "text": [
            "1/1 [==============================] - 0s 209ms/step - loss: 0.3092\n"
          ]
        },
        {
          "output_type": "execute_result",
          "data": {
            "text/plain": [
              "0.30919334292411804"
            ]
          },
          "metadata": {},
          "execution_count": 41
        }
      ]
    },
    {
      "cell_type": "code",
      "source": [],
      "metadata": {
        "id": "wtnuSmxACIi_"
      },
      "execution_count": 41,
      "outputs": []
    },
    {
      "cell_type": "markdown",
      "source": [
        "## Evaluation"
      ],
      "metadata": {
        "id": "WSFTn3qFCPwu"
      }
    },
    {
      "cell_type": "code",
      "source": [
        "index_to_word={x:y for x, y in zip(range(len(french_vectorize_layer.get_vocabulary())),\n",
        "                                   french_vectorize_layer.get_vocabulary())}"
      ],
      "metadata": {
        "id": "jty3ybJCCR5i"
      },
      "execution_count": 42,
      "outputs": []
    },
    {
      "cell_type": "code",
      "source": [
        "index_to_word"
      ],
      "metadata": {
        "colab": {
          "base_uri": "https://localhost:8080/"
        },
        "id": "vqzJRTKJCPdJ",
        "outputId": "09e2917c-baf6-4e02-f1d5-f22a5b2c3948"
      },
      "execution_count": 43,
      "outputs": [
        {
          "output_type": "execute_result",
          "data": {
            "text/plain": [
              "{0: '',\n",
              " 1: '[UNK]',\n",
              " 2: 'starttoken',\n",
              " 3: 'endtoken',\n",
              " 4: 'de',\n",
              " 5: 'le',\n",
              " 6: 'la',\n",
              " 7: 'à',\n",
              " 8: 'je',\n",
              " 9: 'du',\n",
              " 10: 'pas',\n",
              " 11: 'des',\n",
              " 12: 'tu',\n",
              " 13: 'par',\n",
              " 14: 'ne',\n",
              " 15: 'enfant',\n",
              " 16: 'c’est',\n",
              " 17: 'suis',\n",
              " 18: 'femme',\n",
              " 19: 'et',\n",
              " 20: 'enfants',\n",
              " 21: 'en',\n",
              " 22: 'au',\n",
              " 23: 'tout',\n",
              " 24: 'se',\n",
              " 25: 'saison',\n",
              " 26: 'que',\n",
              " 27: 'les',\n",
              " 28: 'diéri',\n",
              " 29: 'dieu',\n",
              " 30: 'bétail',\n",
              " 31: 'bien',\n",
              " 32: '‘enfant',\n",
              " 33: 'être',\n",
              " 34: 'ça',\n",
              " 35: 'zones',\n",
              " 36: 'via',\n",
              " 37: 'vallée',\n",
              " 38: 'une',\n",
              " 39: 'très',\n",
              " 40: 'troupeau',\n",
              " 41: 'tenir',\n",
              " 42: 'son',\n",
              " 43: 'sens',\n",
              " 44: 'santé',\n",
              " 45: 'reposer',\n",
              " 46: 'qui',\n",
              " 47: 'père',\n",
              " 48: 'publique',\n",
              " 49: 'préhivernage',\n",
              " 50: 'pour',\n",
              " 51: 'peuls',\n",
              " 52: 'personne',\n",
              " 53: 'parenté',\n",
              " 54: 'noir',\n",
              " 55: 'moi',\n",
              " 56: 'mariage',\n",
              " 57: 'marché',\n",
              " 58: 'l',\n",
              " 59: 'j’ai',\n",
              " 60: 'illégitime',\n",
              " 61: 'froid',\n",
              " 62: 'fraîche',\n",
              " 63: 'français',\n",
              " 64: 'fouet',\n",
              " 65: 'ferlo',\n",
              " 66: 'est',\n",
              " 67: 'demain',\n",
              " 68: 'dans',\n",
              " 69: 'cousin',\n",
              " 70: 'chasseur',\n",
              " 71: 'besoin',\n",
              " 72: 'beauparent',\n",
              " 73: 'aîné',\n",
              " 74: 'aux',\n",
              " 75: '–toi',\n",
              " 76: 'étaient',\n",
              " 77: 'équivalent',\n",
              " 78: 'épouse',\n",
              " 79: 'égaliser',\n",
              " 80: 'écuelle',\n",
              " 81: 'zone',\n",
              " 82: 'y',\n",
              " 83: 'waalo',\n",
              " 84: 'vêtement',\n",
              " 85: 'vent',\n",
              " 86: 'venir',\n",
              " 87: 'vendredi',\n",
              " 88: 'vas',\n",
              " 89: 'valeur',\n",
              " 90: 'vaincu',\n",
              " 91: 'va',\n",
              " 92: 'utérine',\n",
              " 93: 'utilisé',\n",
              " 94: 'unique',\n",
              " 95: 'un',\n",
              " 96: 'travailler',\n",
              " 97: 'travail',\n",
              " 98: 'tranquille',\n",
              " 99: 'traiter',\n",
              " 100: 'traditionnellement',\n",
              " 101: 'tradition',\n",
              " 102: 'tous',\n",
              " 103: 'toi',\n",
              " 104: 'tires',\n",
              " 105: 'tire',\n",
              " 106: 'terres',\n",
              " 107: 'telle',\n",
              " 108: 'tattends',\n",
              " 109: 'tante',\n",
              " 110: 'talibés',\n",
              " 111: 'tais',\n",
              " 112: 's’exiler',\n",
              " 113: 's’emparer',\n",
              " 114: 'sûr',\n",
              " 115: 'sénégal',\n",
              " 116: 'sèche',\n",
              " 117: 'syn',\n",
              " 118: 'souris',\n",
              " 119: 'souffrance',\n",
              " 120: 'soleil',\n",
              " 121: 'soir',\n",
              " 122: 'située',\n",
              " 123: 'sevrer',\n",
              " 124: 'sevrage',\n",
              " 125: 'seulement',\n",
              " 126: 'ses',\n",
              " 127: 'servitude',\n",
              " 128: 'sein',\n",
              " 129: 'samedi',\n",
              " 130: 'sais',\n",
              " 131: 'sacoche',\n",
              " 132: 'sa',\n",
              " 133: 'réveillé',\n",
              " 134: 'réunion',\n",
              " 135: 'répartir',\n",
              " 136: 'rouge',\n",
              " 137: 'ronde',\n",
              " 138: 'robustes',\n",
              " 139: 'rien',\n",
              " 140: 'restes',\n",
              " 141: 'rendu',\n",
              " 142: 'rencontrer',\n",
              " 143: 'religion',\n",
              " 144: 'recommence',\n",
              " 145: 'recevoir',\n",
              " 146: 'ramasser',\n",
              " 147: 'racler',\n",
              " 148: 'quelconque',\n",
              " 149: 'quasi',\n",
              " 150: 'pêcheur',\n",
              " 151: 'pêche',\n",
              " 152: 'période',\n",
              " 153: 'pécher',\n",
              " 154: 'puit',\n",
              " 155: 'préhéritage',\n",
              " 156: 'propriétaire',\n",
              " 157: 'propre',\n",
              " 158: 'promptement',\n",
              " 159: 'profit',\n",
              " 160: 'problème',\n",
              " 161: 'prière',\n",
              " 162: 'prendre',\n",
              " 163: 'première',\n",
              " 164: 'pouvoir',\n",
              " 165: 'pousser',\n",
              " 166: 'plus',\n",
              " 167: 'place',\n",
              " 168: 'piler',\n",
              " 169: 'pieds',\n",
              " 170: 'peux',\n",
              " 171: 'peul',\n",
              " 172: 'peu',\n",
              " 173: 'personnes',\n",
              " 174: 'patte',\n",
              " 175: 'patrilatéral',\n",
              " 176: 'parlezvous',\n",
              " 177: 'parents',\n",
              " 178: 'parcours',\n",
              " 179: 'parages',\n",
              " 180: 'paix',\n",
              " 181: 'oui',\n",
              " 182: 'oublié',\n",
              " 183: 'oublier',\n",
              " 184: 'on',\n",
              " 185: 'offerts',\n",
              " 186: 'oeuf',\n",
              " 187: 'nés',\n",
              " 188: 'nuit',\n",
              " 189: 'nous',\n",
              " 190: 'nourriture',\n",
              " 191: 'nourrisson',\n",
              " 192: 'non',\n",
              " 193: 'nom',\n",
              " 194: 'neveu',\n",
              " 195: 'naturel',\n",
              " 196: 'm’as',\n",
              " 197: 'm’aimes',\n",
              " 198: 'mortiers',\n",
              " 199: 'monnaie',\n",
              " 200: 'mil',\n",
              " 201: 'mercredi',\n",
              " 202: 'merci',\n",
              " 203: 'menstruelle',\n",
              " 204: 'me',\n",
              " 205: 'mauvaise',\n",
              " 206: 'matrilatéral',\n",
              " 207: 'matin',\n",
              " 208: 'maternité',\n",
              " 209: 'malade',\n",
              " 210: 'mains',\n",
              " 211: 'main',\n",
              " 212: 'maigreur',\n",
              " 213: 'ma',\n",
              " 214: 'l’épouse',\n",
              " 215: 'l’orphelin',\n",
              " 216: 'l’oncle',\n",
              " 217: 'l’on',\n",
              " 218: 'l’héritier',\n",
              " 219: 'l’heure',\n",
              " 220: 'l’habitat',\n",
              " 221: 'l’enfant',\n",
              " 222: 'l’embarras',\n",
              " 223: 'l’année',\n",
              " 224: 'lundi',\n",
              " 225: 'lit',\n",
              " 226: 'limite',\n",
              " 227: 'libérer',\n",
              " 228: 'libre',\n",
              " 229: 'levant',\n",
              " 230: 'leur',\n",
              " 231: 'lettre',\n",
              " 232: 'lest',\n",
              " 233: 'laawol',\n",
              " 234: 'jumeaux',\n",
              " 235: 'jouer',\n",
              " 236: 'jolies',\n",
              " 237: 'jeudi',\n",
              " 238: 'jattends',\n",
              " 239: 'jai',\n",
              " 240: 'importuns',\n",
              " 241: 'il',\n",
              " 242: 'ignore',\n",
              " 243: 'hutte',\n",
              " 244: 'homme',\n",
              " 245: 'hier',\n",
              " 246: 'hebdomadaire',\n",
              " 247: 'haut',\n",
              " 248: 'hangar',\n",
              " 249: 'généreux',\n",
              " 250: 'généalogiste',\n",
              " 251: 'gâté',\n",
              " 252: 'gâter',\n",
              " 253: 'guide',\n",
              " 254: 'griot',\n",
              " 255: 'grain',\n",
              " 256: 'gomme',\n",
              " 257: 'gendre',\n",
              " 258: 'gauche',\n",
              " 259: 'garder',\n",
              " 260: 'futur',\n",
              " 261: 'fusil',\n",
              " 262: 'frère',\n",
              " 263: 'frapper',\n",
              " 264: 'foyer',\n",
              " 265: 'forgeron',\n",
              " 266: 'fluviales',\n",
              " 267: 'fleuve',\n",
              " 268: 'fils',\n",
              " 269: 'filles',\n",
              " 270: 'filiation',\n",
              " 271: 'fesses',\n",
              " 272: 'famille',\n",
              " 273: 'fait',\n",
              " 274: 'facile',\n",
              " 275: 'extension',\n",
              " 276: 'exposition',\n",
              " 277: 'exode',\n",
              " 278: 'exagérer',\n",
              " 279: 'etagères',\n",
              " 280: 'estce',\n",
              " 281: 'esclaves',\n",
              " 282: 'es',\n",
              " 283: 'embarrassant',\n",
              " 284: 'eaux',\n",
              " 285: 'dépérir',\n",
              " 286: 'définitivement',\n",
              " 287: 'décrue',\n",
              " 288: 'décortiqué',\n",
              " 289: 'décide',\n",
              " 290: 'dunaires',\n",
              " 291: 'droite',\n",
              " 292: 'droit',\n",
              " 293: 'dors',\n",
              " 294: 'dormi',\n",
              " 295: 'dons',\n",
              " 296: 'domicile',\n",
              " 297: 'divorcée',\n",
              " 298: 'distu',\n",
              " 299: 'distance'}"
            ]
          },
          "metadata": {},
          "execution_count": 43
        }
      ]
    },
    {
      "cell_type": "code",
      "source": [
        "index_to_word[12]"
      ],
      "metadata": {
        "colab": {
          "base_uri": "https://localhost:8080/",
          "height": 36
        },
        "id": "gH0DVgStLZ6z",
        "outputId": "527fe7dd-8370-4f31-d301-a12c021ce540"
      },
      "execution_count": 44,
      "outputs": [
        {
          "output_type": "execute_result",
          "data": {
            "text/plain": [
              "'tu'"
            ],
            "application/vnd.google.colaboratory.intrinsic+json": {
              "type": "string"
            }
          },
          "metadata": {},
          "execution_count": 44
        }
      ]
    },
    {
      "cell_type": "code",
      "source": [
        "french_vectorize_layer"
      ],
      "metadata": {
        "colab": {
          "base_uri": "https://localhost:8080/"
        },
        "id": "oL3cl0_fk-54",
        "outputId": "08a3c461-c859-4dea-ece6-775c5b0496c3"
      },
      "execution_count": 45,
      "outputs": [
        {
          "output_type": "execute_result",
          "data": {
            "text/plain": [
              "<keras.layers.preprocessing.text_vectorization.TextVectorization at 0x78676e432410>"
            ]
          },
          "metadata": {},
          "execution_count": 45
        }
      ]
    },
    {
      "cell_type": "code",
      "source": [
        "def translator(english_sentence):\n",
        "  tokenized_english_sentence=english_vectorize_layer([english_sentence])\n",
        "  shifted_target='starttoken'\n",
        "\n",
        "  for i in range(FRENCH_SEQUENCE_LENGTH):\n",
        "    tokenized_shifted_target=french_vectorize_layer([shifted_target])\n",
        "    output=seq2seq_gru.predict([tokenized_english_sentence,tokenized_shifted_target])\n",
        "    french_word_index=tf.argmax(output,axis=-1)[0][i].numpy()\n",
        "    current_word=index_to_word[french_word_index]\n",
        "    # print(current_word)\n",
        "    if current_word=='endtoken':\n",
        "      break\n",
        "    shifted_target+=' '+current_word\n",
        "  return shifted_target[11:]"
      ],
      "metadata": {
        "id": "GppNLFI0CS4F"
      },
      "execution_count": 53,
      "outputs": []
    },
    {
      "cell_type": "code",
      "source": [
        "translator('Bajjo')"
      ],
      "metadata": {
        "id": "h4GNfORnCVeD",
        "colab": {
          "base_uri": "https://localhost:8080/",
          "height": 90
        },
        "outputId": "e2d7c89f-1a75-4c71-a7d6-62fa357db93a"
      },
      "execution_count": 58,
      "outputs": [
        {
          "output_type": "stream",
          "name": "stdout",
          "text": [
            "1/1 [==============================] - 0s 23ms/step\n",
            "1/1 [==============================] - 0s 23ms/step\n",
            "1/1 [==============================] - 0s 23ms/step\n"
          ]
        },
        {
          "output_type": "execute_result",
          "data": {
            "text/plain": [
              "'enfant unique'"
            ],
            "application/vnd.google.colaboratory.intrinsic+json": {
              "type": "string"
            }
          },
          "metadata": {},
          "execution_count": 58
        }
      ]
    },
    {
      "cell_type": "code",
      "source": [
        "def translator(english_sentence):\n",
        "    tokenized_english_sentence=english_vectorize_layer([english_sentence])\n",
        "    shifted_target='starttoken'\n",
        "    tokenized_shifted_target=french_vectorize_layer([shifted_target])\n",
        "    output=seq2seq_gru.predict([tokenized_english_sentence,tokenized_shifted_target])\n",
        "    french_sentence=tf.argmax(output,axis=-1)\n",
        "    return french_sentence"
      ],
      "metadata": {
        "id": "Hx0yfAMhpZl4"
      },
      "execution_count": 48,
      "outputs": []
    },
    {
      "cell_type": "code",
      "source": [
        "translator('A n’da hala français Aanani Adjarama Ardaade')"
      ],
      "metadata": {
        "colab": {
          "base_uri": "https://localhost:8080/"
        },
        "id": "W3zwCowF99zM",
        "outputId": "2526b7ee-4c51-4b54-8bf7-6b953731237d"
      },
      "execution_count": 49,
      "outputs": [
        {
          "output_type": "stream",
          "name": "stdout",
          "text": [
            "1/1 [==============================] - 0s 34ms/step\n"
          ]
        },
        {
          "output_type": "execute_result",
          "data": {
            "text/plain": [
              "<tf.Tensor: shape=(1, 15), dtype=int64, numpy=array([[58,  3,  0,  0,  0,  0,  0,  0,  0,  0,  0,  0,  0,  0,  0]])>"
            ]
          },
          "metadata": {},
          "execution_count": 49
        }
      ]
    },
    {
      "cell_type": "code",
      "source": [
        "translator('A n’da hala français Aanani Adjarama Ardaade').shape"
      ],
      "metadata": {
        "colab": {
          "base_uri": "https://localhost:8080/"
        },
        "id": "wBDtB7gj-Ctb",
        "outputId": "15eaa930-4cd9-4012-aaa4-029f515afc37"
      },
      "execution_count": 50,
      "outputs": [
        {
          "output_type": "stream",
          "name": "stdout",
          "text": [
            "1/1 [==============================] - 0s 33ms/step\n"
          ]
        },
        {
          "output_type": "execute_result",
          "data": {
            "text/plain": [
              "TensorShape([1, 15])"
            ]
          },
          "metadata": {},
          "execution_count": 50
        }
      ]
    },
    {
      "cell_type": "code",
      "source": [
        "word_to_index={y:x for x, y in zip(range(len(french_vectorize_layer.get_vocabulary())),\n",
        "                                   french_vectorize_layer.get_vocabulary())}"
      ],
      "metadata": {
        "id": "azxWAdzsCadE"
      },
      "execution_count": 51,
      "outputs": []
    }
  ]
}