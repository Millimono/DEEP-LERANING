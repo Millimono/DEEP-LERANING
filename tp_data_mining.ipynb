{
  "nbformat": 4,
  "nbformat_minor": 0,
  "metadata": {
    "colab": {
      "name": "Bienvenue dans Colaboratory",
      "provenance": [],
      "collapsed_sections": [],
      "toc_visible": true,
      "include_colab_link": true
    },
    "kernelspec": {
      "display_name": "Python 3",
      "name": "python3"
    }
  },
  "cells": [
    {
      "cell_type": "markdown",
      "metadata": {
        "id": "view-in-github",
        "colab_type": "text"
      },
      "source": [
        "<a href=\"https://colab.research.google.com/github/Millimono/DEEP-LERANING/blob/main/tp_data_mining.ipynb\" target=\"_parent\"><img src=\"https://colab.research.google.com/assets/colab-badge.svg\" alt=\"Open In Colab\"/></a>"
      ]
    },
    {
      "cell_type": "code",
      "metadata": {
        "colab": {
          "base_uri": "https://localhost:8080/"
        },
        "id": "Ll4VajmNq4Bd",
        "outputId": "8f09d8f8-595a-4061-ed53-3f30fb703131"
      },
      "source": [
        "pip install catboost"
      ],
      "execution_count": 2,
      "outputs": [
        {
          "output_type": "stream",
          "text": [
            "Collecting catboost\n",
            "\u001b[?25l  Downloading https://files.pythonhosted.org/packages/20/37/bc4e0ddc30c07a96482abf1de7ed1ca54e59bba2026a33bca6d2ef286e5b/catboost-0.24.4-cp36-none-manylinux1_x86_64.whl (65.7MB)\n",
            "\u001b[K     |████████████████████████████████| 65.8MB 77kB/s \n",
            "\u001b[?25hRequirement already satisfied: numpy>=1.16.0 in /usr/local/lib/python3.6/dist-packages (from catboost) (1.19.5)\n",
            "Requirement already satisfied: matplotlib in /usr/local/lib/python3.6/dist-packages (from catboost) (3.2.2)\n",
            "Requirement already satisfied: graphviz in /usr/local/lib/python3.6/dist-packages (from catboost) (0.10.1)\n",
            "Requirement already satisfied: pandas>=0.24.0 in /usr/local/lib/python3.6/dist-packages (from catboost) (1.1.5)\n",
            "Requirement already satisfied: plotly in /usr/local/lib/python3.6/dist-packages (from catboost) (4.4.1)\n",
            "Requirement already satisfied: scipy in /usr/local/lib/python3.6/dist-packages (from catboost) (1.4.1)\n",
            "Requirement already satisfied: six in /usr/local/lib/python3.6/dist-packages (from catboost) (1.15.0)\n",
            "Requirement already satisfied: cycler>=0.10 in /usr/local/lib/python3.6/dist-packages (from matplotlib->catboost) (0.10.0)\n",
            "Requirement already satisfied: kiwisolver>=1.0.1 in /usr/local/lib/python3.6/dist-packages (from matplotlib->catboost) (1.3.1)\n",
            "Requirement already satisfied: python-dateutil>=2.1 in /usr/local/lib/python3.6/dist-packages (from matplotlib->catboost) (2.8.1)\n",
            "Requirement already satisfied: pyparsing!=2.0.4,!=2.1.2,!=2.1.6,>=2.0.1 in /usr/local/lib/python3.6/dist-packages (from matplotlib->catboost) (2.4.7)\n",
            "Requirement already satisfied: pytz>=2017.2 in /usr/local/lib/python3.6/dist-packages (from pandas>=0.24.0->catboost) (2018.9)\n",
            "Requirement already satisfied: retrying>=1.3.3 in /usr/local/lib/python3.6/dist-packages (from plotly->catboost) (1.3.3)\n",
            "Installing collected packages: catboost\n",
            "Successfully installed catboost-0.24.4\n"
          ],
          "name": "stdout"
        }
      ]
    },
    {
      "cell_type": "markdown",
      "metadata": {
        "id": "4HD1TmB3rHai"
      },
      "source": [
        "# IMPORTER LES DONNES"
      ]
    },
    {
      "cell_type": "code",
      "metadata": {
        "id": "ICjESX-MrBA1"
      },
      "source": [
        "import gc\r\n",
        "import os\r\n",
        "from pathlib import Path\r\n",
        "import random\r\n",
        "import sys\r\n",
        "\r\n",
        "from tqdm.notebook import tqdm\r\n",
        "import numpy as np\r\n",
        "import pandas as pd\r\n",
        "import scipy as sp\r\n",
        "\r\n",
        "\r\n",
        "import matplotlib.pyplot as plt\r\n",
        "import seaborn as sns\r\n",
        "\r\n",
        "from IPython.core.display import display, HTML"
      ],
      "execution_count": 3,
      "outputs": []
    },
    {
      "cell_type": "code",
      "metadata": {
        "id": "YlPddeJBrGQn"
      },
      "source": [
        "# --- plotly ---\r\n",
        "from plotly import tools, subplots\r\n",
        "import plotly.offline as py\r\n",
        "py.init_notebook_mode(connected=True)\r\n",
        "import plotly.graph_objs as go\r\n",
        "import plotly.express as px\r\n",
        "import plotly.figure_factory as ff\r\n",
        "import plotly.io as pio\r\n",
        "pio.templates.default = \"plotly_dark\"\r\n",
        "\r\n",
        "# --- models ---\r\n",
        "from sklearn import preprocessing\r\n",
        "from sklearn.model_selection import KFold\r\n",
        "import lightgbm as lgb\r\n",
        "import xgboost as xgb\r\n",
        "import catboost as cb\r\n",
        "\r\n",
        "# --- setup ---\r\n",
        "pd.set_option('max_columns', 50)\r\n",
        "import os"
      ],
      "execution_count": null,
      "outputs": []
    },
    {
      "cell_type": "code",
      "metadata": {
        "id": "nrGcEjS_rV9q"
      },
      "source": [
        ""
      ],
      "execution_count": null,
      "outputs": []
    },
    {
      "cell_type": "markdown",
      "metadata": {
        "id": "Bmis_010rXAt"
      },
      "source": [
        "# CHARGER LES DONNES"
      ]
    },
    {
      "cell_type": "code",
      "metadata": {
        "id": "O5DHvgOqrbJL"
      },
      "source": [
        "%%time\r\n",
        "import requests\r\n",
        "\r\n",
        "for filename in ['time_series_covid19_confirmed_global.csv',\r\n",
        "                 'time_series_covid19_deaths_global.csv',\r\n",
        "                 'time_series_covid19_recovered_global.csv',\r\n",
        "                 'time_series_covid19_confirmed_US.csv',\r\n",
        "                 'time_series_covid19_deaths_US.csv']:\r\n",
        "    print(f'Downloading {filename}')\r\n",
        "    url = f'https://raw.githubusercontent.com/CSSEGISandData/COVID-19/master/csse_covid_19_data/csse_covid_19_time_series/{filename}'\r\n",
        "    myfile = requests.get(url)\r\n",
        "    open(filename, 'wb').write(myfile.content)"
      ],
      "execution_count": null,
      "outputs": []
    },
    {
      "cell_type": "markdown",
      "metadata": {
        "id": "uWL8Xx1QsSci"
      },
      "source": [
        "PERMETTRE UN BON ENREGISTREMENT DES TYPES DATES"
      ]
    },
    {
      "cell_type": "code",
      "metadata": {
        "id": "vmn2PjqDrbMd"
      },
      "source": [
        "from datetime import datetime\r\n",
        "\r\n",
        "def _convert_date_str(df):\r\n",
        "    try:\r\n",
        "        df.columns = list(df.columns[:4]) + [datetime.strptime(d, \"%m/%d/%y\").date().strftime(\"%Y-%m-%d\") for d in df.columns[4:]]\r\n",
        "    except:\r\n",
        "        print('_convert_date_str failed with %y, try %Y')\r\n",
        "        df.columns = list(df.columns[:4]) + [datetime.strptime(d, \"%m/%d/%Y\").date().strftime(\"%Y-%m-%d\") for d in df.columns[4:]]\r\n",
        "\r\n",
        "\r\n",
        "confirmed_global_df = pd.read_csv('time_series_covid19_confirmed_global.csv')\r\n",
        "_convert_date_str(confirmed_global_df)\r\n",
        "\r\n",
        "deaths_global_df = pd.read_csv('time_series_covid19_deaths_global.csv')\r\n",
        "_convert_date_str(deaths_global_df)\r\n",
        "\r\n",
        "recovered_global_df = pd.read_csv('time_series_covid19_recovered_global.csv')\r\n",
        "_convert_date_str(recovered_global_df)"
      ],
      "execution_count": null,
      "outputs": []
    },
    {
      "cell_type": "markdown",
      "metadata": {
        "id": "xVrvaWEtrwg4"
      },
      "source": [
        "# FAIRE UN FILTRAGE EN RENOMMANT LES COLONNES ET GERER LES DONNES VIDES"
      ]
    },
    {
      "cell_type": "code",
      "metadata": {
        "id": "AeCcAOzKrtLM"
      },
      "source": [
        "# Filter out problematic data points (The West Bank and Gaza had a negative value, cruise ships were associated with Canada, etc.)\r\n",
        "removed_states = \"Recovered|Grand Princess|Diamond Princess\"\r\n",
        "removed_countries = \"US|The West Bank and Gaza\"\r\n",
        "\r\n",
        "confirmed_global_df.rename(columns={\"Province/State\": \"Province_State\", \"Country/Region\": \"Country_Region\"}, inplace=True)\r\n",
        "deaths_global_df.rename(columns={\"Province/State\": \"Province_State\", \"Country/Region\": \"Country_Region\"}, inplace=True)\r\n",
        "recovered_global_df.rename(columns={\"Province/State\": \"Province_State\", \"Country/Region\": \"Country_Region\"}, inplace=True)\r\n",
        "\r\n",
        "confirmed_global_df = confirmed_global_df[~confirmed_global_df[\"Province_State\"].replace(np.nan, \"nan\").str.match(removed_states)]"
      ],
      "execution_count": null,
      "outputs": []
    },
    {
      "cell_type": "code",
      "metadata": {
        "id": "p6T9Bk2msC7Y"
      },
      "source": [
        "deaths_global_df    = deaths_global_df[~deaths_global_df[\"Province_State\"].replace(np.nan, \"nan\").str.match(removed_states)]\r\n",
        "recovered_global_df = recovered_global_df[~recovered_global_df[\"Province_State\"].replace(np.nan, \"nan\").str.match(removed_states)]\r\n",
        "\r\n",
        "confirmed_global_df = confirmed_global_df[~confirmed_global_df[\"Country_Region\"].replace(np.nan, \"nan\").str.match(removed_countries)]\r\n",
        "deaths_global_df    = deaths_global_df[~deaths_global_df[\"Country_Region\"].replace(np.nan, \"nan\").str.match(removed_countries)]\r\n",
        "recovered_global_df = recovered_global_df[~recovered_global_df[\"Country_Region\"].replace(np.nan, \"nan\").str.match(removed_countries)]"
      ],
      "execution_count": null,
      "outputs": []
    },
    {
      "cell_type": "code",
      "metadata": {
        "id": "cpXJ8wh5tIKe"
      },
      "source": [
        ""
      ],
      "execution_count": null,
      "outputs": []
    },
    {
      "cell_type": "code",
      "metadata": {
        "id": "ikj0LxMatIOQ"
      },
      "source": [
        ""
      ],
      "execution_count": null,
      "outputs": []
    }
  ]
}